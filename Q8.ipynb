{
 "cells": [
  {
   "cell_type": "code",
   "execution_count": 2,
   "metadata": {},
   "outputs": [
    {
     "name": "stdout",
     "output_type": "stream",
     "text": [
      "Positive number\n",
      "Exiting the program.\n"
     ]
    }
   ],
   "source": [
    "\"\"\"\n",
    "Q-8 write a pythin program that asks the user for a number and determines whether it is positive , negative or zero. \n",
    "Implement a loop that continues to ask the user for a number until they enter 'exit'  \n",
    "Use break to exit the loop and continue to prompt for a new number if the input is not 'exit'.\n",
    "\"\"\"\n",
    "\n",
    "while True:\n",
    "   \n",
    "    input_num = input(\"Enter a number here (or 'exit' to quit): \")\n",
    "\n",
    "    if input_num.lower() == 'exit':\n",
    "        print(\"Exiting the program.\")\n",
    "        \n",
    "        break\n",
    "\n",
    "    try:\n",
    "        \n",
    "        number = float(input_num)\n",
    "        \n",
    "        if number > 0:\n",
    "            print(\"Positive number\")\n",
    "        elif number < 0:\n",
    "            print(\"Negative number\")\n",
    "        else:\n",
    "            print(\"Zero\")\n",
    "    except ValueError:\n",
    "    \n",
    "        print(\"Invalid input. Please enter a valid number or 'exit'.\")"
   ]
  }
 ],
 "metadata": {
  "kernelspec": {
   "display_name": "Python 3",
   "language": "python",
   "name": "python3"
  },
  "language_info": {
   "codemirror_mode": {
    "name": "ipython",
    "version": 3
   },
   "file_extension": ".py",
   "mimetype": "text/x-python",
   "name": "python",
   "nbconvert_exporter": "python",
   "pygments_lexer": "ipython3",
   "version": "3.12.4"
  }
 },
 "nbformat": 4,
 "nbformat_minor": 2
}
