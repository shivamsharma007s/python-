{
 "cells": [
  {
   "cell_type": "code",
   "execution_count": 1,
   "metadata": {},
   "outputs": [],
   "source": [
    "\"\"\"\"\n",
    "2- write  a python program with briefly explained comments that takes a users first and \n",
    "last name as input and prints them in reverse order with a space between them.\n",
    "\"\"\"\n",
    "# Get user firstname as input\n",
    "first_name = input(\"Enter your first name: \")\n",
    "\n",
    "# Get user last name as input\n",
    "last_name = input(\"Enter your last name: \")\n",
    "\n",
    "# Combine both names in reverse order with a space in between\n",
    "full_name_reversed = last_name + \" \" + first_name\n",
    "\n",
    "# Print the reversed full name using the f-string method\n",
    "print(\"Reversed full name:\", full_name_reversed)"
   ]
  }
 ],
 "metadata": {
  "kernelspec": {
   "display_name": "Python 3",
   "language": "python",
   "name": "python3"
  },
  "language_info": {
   "codemirror_mode": {
    "name": "ipython",
    "version": 3
   },
   "file_extension": ".py",
   "mimetype": "text/x-python",
   "name": "python",
   "nbconvert_exporter": "python",
   "pygments_lexer": "ipython3",
   "version": "3.12.4"
  }
 },
 "nbformat": 4,
 "nbformat_minor": 2
}
