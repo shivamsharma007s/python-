{
 "cells": [
  {
   "cell_type": "code",
   "execution_count": 7,
   "id": "7495ae4c-6428-49f0-96bd-3cf134ca8e46",
   "metadata": {},
   "outputs": [
    {
     "name": "stdout",
     "output_type": "stream",
     "text": [
      "Hello, Deepali!\n",
      "Hi, soni!\n"
     ]
    }
   ],
   "source": [
    "# Basic function implementation\n",
    "def greet(name: str, greeting: str = \"Hello\"):\n",
    "    return f\"{greeting}, {name}!\"\n",
    "\n",
    "print(greet(\"Deepali\"))  \n",
    "print(greet(\"soni\", \"Hi\"))  \n"
   ]
  },
  {
   "cell_type": "code",
   "execution_count": 54,
   "id": "980fbb27-37a2-4355-81a2-95d71dd83eea",
   "metadata": {},
   "outputs": [
    {
     "name": "stdout",
     "output_type": "stream",
     "text": [
      "Name:Alice,Age:18,City:New York\n",
      "Name:John,Age:25,City:Chicago\n"
     ]
    }
   ],
   "source": [
    "# named arguments\n",
    "def create_profile(name: str, city: str,age: int = 18):\n",
    "    return f\"Name:{name},Age:{age},City:{city}\"\n",
    "\n",
    "profile1 = create_profile(name=\"Alice\", city=\"New York\")\n",
    "profile2 = create_profile(name=\"John\", age=25, city=\"Chicago\")\n",
    "\n",
    "print(profile1)  \n",
    "print(profile2) \n"
   ]
  },
  {
   "cell_type": "code",
   "execution_count": 57,
   "id": "f7b38bc4-0003-460e-ba66-3acf49aead64",
   "metadata": {},
   "outputs": [
    {
     "name": "stdout",
     "output_type": "stream",
     "text": [
      "Sum of numbers: 6.5\n",
      "Keyword arguments: {'name': 'Alice', 'age': 25}\n"
     ]
    }
   ],
   "source": [
    "# **using *args and Kwargs\n",
    "def sum_numbers(*args, **kwargs):\n",
    "    # Sum all positional arguments that are numbers\n",
    "    total_sum = sum(arg for arg in args if isinstance(arg, (int, float)))\n",
    "    \n",
    "    # Return both the sum and the keyword arguments as a dictionary\n",
    "    return total_sum, kwargs\n",
    "result_sum, result_kwargs = sum_numbers(1, 2, 3.5, 'a', name=\"Alice\", age=25)\n",
    "print(\"Sum of numbers:\", result_sum)  \n",
    "print(\"Keyword arguments:\", result_kwargs) \n"
   ]
  },
  {
   "cell_type": "code",
   "execution_count": 61,
   "id": "7dc8f4c1-3a43-42de-814f-40ce3603dfab",
   "metadata": {},
   "outputs": [
    {
     "name": "stdout",
     "output_type": "stream",
     "text": [
      "Even numbers: [2, 4, 6, 8, 10]\n"
     ]
    }
   ],
   "source": [
    "#Lambdas and filter\n",
    "def filter_odd_numbers(numbers):\n",
    "    # Use filter and lambda to get only even numbers\n",
    "    even_numbers = list(filter(lambda x: x % 2 == 0, numbers))\n",
    "    return even_numbers\n",
    "numbers_list = [1, 2, 3, 4, 5, 6, 7, 8, 9, 10]\n",
    "filtered_numbers = filter_odd_numbers(numbers_list)\n",
    "\n",
    "print(\"Even numbers:\", filtered_numbers)  \n"
   ]
  },
  {
   "cell_type": "code",
   "execution_count": 79,
   "id": "47e857d2-c66a-4dca-90eb-f9fb35eac60c",
   "metadata": {},
   "outputs": [
    {
     "name": "stdout",
     "output_type": "stream",
     "text": [
      "Squared numbers: [1, 4, 9, 16, 25]\n"
     ]
    }
   ],
   "source": [
    "#Lambdas and map\n",
    "def sqr(numbers):\n",
    "    # Use map and lambda to square each number\n",
    "    squared_numbers = list(map(lambda x: x**2, numbers))\n",
    "    return squared_numbers\n",
    "numbers_list = [1, 2, 3, 4, 5]\n",
    "sqr = square_numbers(numbers_list)\n",
    "print(\"Squared numbers:\", sqr)  \n",
    "\n"
   ]
  },
  {
   "cell_type": "code",
   "execution_count": 67,
   "id": "d596e8d3-4fd1-4f1f-8b8d-14a69481d3de",
   "metadata": {},
   "outputs": [
    {
     "data": {
      "text/plain": [
       "[2, 4, 6, 8, 10, 12, 14, 16, 18, 20]"
      ]
     },
     "execution_count": 67,
     "metadata": {},
     "output_type": "execute_result"
    }
   ],
   "source": [
    "#Basic List Comprehensions\n",
    "[x for x in range(1, 21) if x % 2 == 0]"
   ]
  },
  {
   "cell_type": "code",
   "execution_count": 75,
   "id": "38e82353-ceae-4cb2-a440-0a13b28209de",
   "metadata": {},
   "outputs": [
    {
     "name": "stdout",
     "output_type": "stream",
     "text": [
      "Pause execution for 2 seconds.\n"
     ]
    }
   ],
   "source": [
    "#importing specific functions\n",
    "from time import sleep as pause\n",
    "# Pause execution for 2 seconds\n",
    "pause(2)\n",
    "# Print message after the pause\n",
    "print(\"Pause execution for 2 seconds.\")"
   ]
  },
  {
   "cell_type": "code",
   "execution_count": 77,
   "id": "7d7f78c4-9921-460a-a6fb-4b7317078abb",
   "metadata": {},
   "outputs": [
    {
     "name": "stdout",
     "output_type": "stream",
     "text": [
      "[1, 2, 3, 4, 5, 6, 7, 8, 9]\n"
     ]
    }
   ],
   "source": [
    "# **Recursive Function with *args and Kwargs(Flattening a List)\n",
    "def FlattenList(*args, **kwargs):\n",
    "    result = []\n",
    "    \n",
    "    for arg in args:\n",
    "        if isinstance(arg, list):\n",
    "            # Recursively call FlattenList if the element is a list\n",
    "            result.extend(FlattenList(*arg))  # Unpacking the nested list to pass to the recursive call\n",
    "        else:\n",
    "            # Append non-list elements to the result\n",
    "            result.append(arg)\n",
    "    return result\n",
    "nested_list = [1, [2, [3, 4], 5], [6, [7, [8, 9]]]]\n",
    "flattened = FlattenList(nested_list)\n",
    "print(flattened)"
   ]
  },
  {
   "cell_type": "code",
   "execution_count": null,
   "id": "8dc9b90f-6f21-4340-990b-dafe5e98fcac",
   "metadata": {},
   "outputs": [],
   "source": []
  }
 ],
 "metadata": {
  "kernelspec": {
   "display_name": "Python 3 (ipykernel)",
   "language": "python",
   "name": "python3"
  },
  "language_info": {
   "codemirror_mode": {
    "name": "ipython",
    "version": 3
   },
   "file_extension": ".py",
   "mimetype": "text/x-python",
   "name": "python",
   "nbconvert_exporter": "python",
   "pygments_lexer": "ipython3",
   "version": "3.12.4"
  }
 },
 "nbformat": 4,
 "nbformat_minor": 5
}
