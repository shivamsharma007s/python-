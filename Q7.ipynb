{
 "cells": [
  {
   "cell_type": "code",
   "execution_count": 1,
   "metadata": {},
   "outputs": [
    {
     "name": "stdout",
     "output_type": "stream",
     "text": [
      "The average of the three numbers is: 26.67\n"
     ]
    }
   ],
   "source": [
    "\"\"\"\"\"\n",
    "Q-7 write a python script that takes three jumbers as input and prints their average using the % method for string  formating.\n",
    "Also, use the print functions to display a message that states , \"the average of the three numbers is: [calculated average]\".\n",
    "\"\"\"\n",
    "#Taking three numbers as input from the user\n",
    "num1 = input(\"Enter the first number here: \")\n",
    "num2 = input(\"Enter the second number here: \")\n",
    "num3 = input(\"Enter the third number here: \")\n",
    "\n",
    "try:\n",
    " \n",
    "    num1 = float(num1)\n",
    "    num2 = float(num2)\n",
    "    num3 = float(num3)\n",
    "   \n",
    "    average = (num1 + num2 + num3) / 3\n",
    "\n",
    "    print(\"The average of the three numbers is: %.2f\" % average)\n",
    "\n",
    "except ValueError:\n",
    "    print(\"Invalid input. Please enter a valid numeric value.\")"
   ]
  }
 ],
 "metadata": {
  "kernelspec": {
   "display_name": "Python 3",
   "language": "python",
   "name": "python3"
  },
  "language_info": {
   "codemirror_mode": {
    "name": "ipython",
    "version": 3
   },
   "file_extension": ".py",
   "mimetype": "text/x-python",
   "name": "python",
   "nbconvert_exporter": "python",
   "pygments_lexer": "ipython3",
   "version": "3.12.4"
  }
 },
 "nbformat": 4,
 "nbformat_minor": 2
}
