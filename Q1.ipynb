{
 "cells": [
  {
   "cell_type": "code",
   "execution_count": 1,
   "metadata": {},
   "outputs": [
    {
     "name": "stdout",
     "output_type": "stream",
     "text": [
      "Name: shivam sharma\n",
      "Course: python programming\n",
      "3.12.4 (tags/v3.12.4:8e8a4ba, Jun  6 2024, 19:30:16) [MSC v.1940 64 bit (AMD64)]\n"
     ]
    }
   ],
   "source": [
    "\"\"\"\n",
    "Q1-write a python script that print your name , course name , and the python version you are using\n",
    "\"\"\"\n",
    "# importing the sys module\n",
    "import sys\n",
    "# This line assigns the string value \"Pulkit Pandey\" to the variable my_name\n",
    "my_name = \"shivam sharma\" \n",
    "# This line assigns the string value \"python programming\" to the variable course_name\n",
    "course_name = \"python programming\"\n",
    "#nting Name:,Course:   using the f-string\n",
    "print(f\"Name: {my_name}\")\n",
    "print(f\"Course: {course_name}\")\n",
    "# printing the sys.version tell about the current version of python you are using\n",
    "print(sys.version)"
   ]
  }
 ],
 "metadata": {
  "kernelspec": {
   "display_name": "Python 3",
   "language": "python",
   "name": "python3"
  },
  "language_info": {
   "codemirror_mode": {
    "name": "ipython",
    "version": 3
   },
   "file_extension": ".py",
   "mimetype": "text/x-python",
   "name": "python",
   "nbconvert_exporter": "python",
   "pygments_lexer": "ipython3",
   "version": "3.12.4"
  }
 },
 "nbformat": 4,
 "nbformat_minor": 2
}
