{
 "cells": [
  {
   "cell_type": "code",
   "execution_count": 1,
   "metadata": {},
   "outputs": [
    {
     "name": "stdout",
     "output_type": "stream",
     "text": [
      "Integer value: 2\n",
      "Float value: 2.0\n",
      "Complex value: (2+0j)\n"
     ]
    }
   ],
   "source": [
    "\"\"\"\n",
    "write a python program that takes an input number from the user, converts it to diffent numeric data types (integer, float, nad complex), \n",
    "and displays the converted values.\n",
    "\"\"\"\n",
    "# Takes an input number from the user using variable input_num\n",
    "input_num = input(\"Enter the number here: \")\n",
    "\n",
    "try:\n",
    "    \n",
    "    \n",
    "    int_num = int(input_num)\n",
    "   \n",
    "    float_num = float(input_num)\n",
    "    \n",
    "    complex_num = complex(input_num)\n",
    "   \n",
    "    print(f\"Integer value: {int_num}\")\n",
    "    print(f\"Float value: {float_num}\")\n",
    "    print(f\"Complex value: {complex_num}\")\n",
    "    \n",
    "except ValueError:\n",
    "    print(\"Invalid input. Please enter a valid numeric value.\")"
   ]
  }
 ],
 "metadata": {
  "kernelspec": {
   "display_name": "Python 3",
   "language": "python",
   "name": "python3"
  },
  "language_info": {
   "codemirror_mode": {
    "name": "ipython",
    "version": 3
   },
   "file_extension": ".py",
   "mimetype": "text/x-python",
   "name": "python",
   "nbconvert_exporter": "python",
   "pygments_lexer": "ipython3",
   "version": "3.12.4"
  }
 },
 "nbformat": 4,
 "nbformat_minor": 2
}
