{
 "cells": [
  {
   "cell_type": "code",
   "execution_count": 1,
   "metadata": {},
   "outputs": [
    {
     "name": "stdout",
     "output_type": "stream",
     "text": [
      "The area of the rectangle is: 66.0\n"
     ]
    }
   ],
   "source": [
    "\"\"\"\n",
    "Q-5 create a python script that calculates the sum the area of a rectangle . \n",
    "the script should ask user to enter the length and width of the rectangle .\n",
    "Calculate the area.\n",
    "Display the result using print function.\n",
    "\"\"\"\n",
    "\n",
    "# takes the lenght as input from user\n",
    "length = float(input(\"Enter the length of the rectangle: \"))\n",
    "# takes the width as input from user\n",
    "width = float(input(\"Enter the width of the rectangle: \"))\n",
    "\n",
    "# Calculate the area (length * width)\n",
    "area = length * width\n",
    "\n",
    "# Display the result using the f-string method\n",
    "print(f\"The area of the rectangle is: {area}\")"
   ]
  }
 ],
 "metadata": {
  "kernelspec": {
   "display_name": "Python 3",
   "language": "python",
   "name": "python3"
  },
  "language_info": {
   "codemirror_mode": {
    "name": "ipython",
    "version": 3
   },
   "file_extension": ".py",
   "mimetype": "text/x-python",
   "name": "python",
   "nbconvert_exporter": "python",
   "pygments_lexer": "ipython3",
   "version": "3.12.4"
  }
 },
 "nbformat": 4,
 "nbformat_minor": 2
}
