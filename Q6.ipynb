{
 "cells": [
  {
   "cell_type": "code",
   "execution_count": 1,
   "metadata": {},
   "outputs": [
    {
     "name": "stdout",
     "output_type": "stream",
     "text": [
      "The area of the rectangle is: 6.00\n"
     ]
    }
   ],
   "source": [
    "\"\"\"\n",
    "Q-6 modify the rectangle area program to format the output so that it display the area with two decimal places.\n",
    "\"\"\"\n",
    "\n",
    "# takes the lenght as input from user\n",
    "length = float(input(\"Enter the length of the rectangle: \"))\n",
    "# takes the width as input from user\n",
    "width = float(input(\"Enter the width of the rectangle: \"))\n",
    "\n",
    "# Calculate the area (length * width)\n",
    "area = length * width\n",
    "\n",
    "# Display the area of rectangle upto two decimal places \n",
    "print(f\"The area of the rectangle is: {area:.2f}\")"
   ]
  }
 ],
 "metadata": {
  "kernelspec": {
   "display_name": "Python 3",
   "language": "python",
   "name": "python3"
  },
  "language_info": {
   "codemirror_mode": {
    "name": "ipython",
    "version": 3
   },
   "file_extension": ".py",
   "mimetype": "text/x-python",
   "name": "python",
   "nbconvert_exporter": "python",
   "pygments_lexer": "ipython3",
   "version": "3.12.4"
  }
 },
 "nbformat": 4,
 "nbformat_minor": 2
}
