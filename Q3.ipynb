{
 "cells": [
  {
   "cell_type": "code",
   "execution_count": null,
   "metadata": {},
   "outputs": [],
   "source": [
    "# Q3 This line assigns the string value \"How are you.\" to the variable input_string\n",
    "input_string = \"How are you bro .\"\n",
    "\n",
    "# 1. String Method: upper(). It Converts all characters in the string to uppercase.\n",
    "uppercase_string = input_string.upper()\n",
    "\n",
    "# 2. String Method: replace(). It allows us to replace a specific substring with a different one.\n",
    "modified_string = input_string.replace(\".\", \"?\")\n",
    "\n",
    "# Print the results using the f-string method\n",
    "print(\"Original string:\", input_string)\n",
    "print(\"Uppercase string:\", uppercase_string)\n",
    "print(\"Modified string:\", modified_string)"
   ]
  }
 ],
 "metadata": {
  "language_info": {
   "name": "python"
  }
 },
 "nbformat": 4,
 "nbformat_minor": 2
}
